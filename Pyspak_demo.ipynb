{
 "cells": [
  {
   "cell_type": "markdown",
   "metadata": {},
   "source": [
    "## Spark Tutorial  (PySpark)"
   ]
  },
  {
   "cell_type": "markdown",
   "metadata": {},
   "source": [
    "### Initialize spark context "
   ]
  },
  {
   "cell_type": "code",
   "execution_count": 1,
   "metadata": {},
   "outputs": [],
   "source": [
    "from pyspark import SparkConf\n",
    "from pyspark.context import SparkContext\n",
    "# appName parameter is a name for your application to show on the cluster UI. \n",
    "#master is a Spark, Mesos or YARN cluster URL\n",
    "conf = SparkConf().setAppName('appName').setMaster('local[*]')\n",
    "\n",
    "#first thing a Spark program must do is to create a SparkContext object, which tells Spark how to access a cluster\n",
    "sc = SparkContext(conf=conf)\n",
    " \n"
   ]
  },
  {
   "cell_type": "markdown",
   "metadata": {},
   "source": [
    "## RDD \n",
    "- Fault-tolerant collection of elements that can be operated on in parallel.\n",
    "- Two ways to create RDDs,\n",
    "     - Parallelizing an existing collection in your driver program\n",
    "     - Referencing a dataset in an external storage system"
   ]
  },
  {
   "cell_type": "markdown",
   "metadata": {},
   "source": [
    "### RDD by Parallelized Collections\n",
    "- Created by calling SparkContext’s parallelize method on an existing iterable or collection in your driver program.\n",
    "- given data is  copied to form a distributed dataset that can be operated on in parallel\n",
    "- number of partitions to cut the dataset into\n",
    "     - Normally, Spark tries to set the number of partitions automatically based on your cluster\n",
    "     - set it manually by passing it as a second parameter to parallelize\n",
    "  "
   ]
  },
  {
   "cell_type": "code",
   "execution_count": 56,
   "metadata": {},
   "outputs": [],
   "source": [
    "# rdd from parallelization\n",
    "data = [1, 2, 3, 4, 5]\n",
    "distData = sc.parallelize(data)\n",
    "distData_with_10_partition = sc.parallelize(data, 10)"
   ]
  },
  {
   "cell_type": "code",
   "execution_count": null,
   "metadata": {},
   "outputs": [],
   "source": [
    "# add all collection operation\n",
    "distData.reduce(lambda a, b: a + b)"
   ]
  },
  {
   "cell_type": "markdown",
   "metadata": {},
   "source": [
    "### RDD from External source \n",
    "- PySpark can create distributed datasets from any storage source supported by Hadoop, including your local file system, HDFS, Cassandra, HBase, Amazon S3, etc.\n",
    "- Spark supports text files, SequenceFiles, and any other Hadoop InputFormat\n",
    "- method takes a URI for the file (either a local path on the machine, or a hdfs://, s3a://, etc )\n",
    "- file must also be accessible at the same path on worker nodes\n",
    "- support running on directories, compressed files, and wildcards as well. For example, you can use textFile(\"/my/directory\"), textFile(\"/my/directory/*.txt\"), and textFile(\"/my/directory/*.gz\")\n",
    "- textFile method also takes an optional second argument for controlling the number of partitions of the file. By default, Spark creates one partition for each block of the file (blocks being 128MB by default in HDFS)\n",
    "- RDD.saveAsPickleFile and SparkContext.pickleFile support saving an RDD in a simple format consisting of pickled Python objects\n",
    "- Writables are automatically converted\n",
    "- , SequenceFiles can be saved and loaded by specifying the path ( these are map type i.e. key,value )"
   ]
  },
  {
   "cell_type": "code",
   "execution_count": 81,
   "metadata": {},
   "outputs": [],
   "source": [
    "# rdd from extenal dataset \n",
    "# this method is prefreder if spark version  <2.4\n",
    "local_text_rdd = sc.textFile(\"file:///Users/kaustuv/test.txt\")\n",
    "\n",
    "## Number of rows in this DataFrame\n",
    "local_text_rdd.count()\n",
    "\n",
    "# First row in this DataFrame\n",
    "local_text_rdd.first()\n",
    "\n",
    " \n",
    "\n",
    "# add up the sizes of all the lines using the map and reduce operations\n",
    "local_text_rdd.map(lambda s: len(s)).reduce(lambda a, b: a + b)\n",
    "\n",
    "# saving as sequence file \n",
    "distData.saveAsPickleFile(\"file:///Users/kaustuv/Documents/Courses/Spark/pyspark/sequence_file\")"
   ]
  },
  {
   "cell_type": "markdown",
   "metadata": {},
   "source": [
    "## RDD Operations\n"
   ]
  },
  {
   "cell_type": "code",
   "execution_count": 66,
   "metadata": {
    "collapsed": true
   },
   "outputs": [
    {
     "data": {
      "text/plain": [
       "['just to test',\n",
       " \"If you're inspired by innovation, hard work and a passion for data, this may be the ideal opportunity to leverage your background in Big Data and Software Engineering, Data Engineering or Data Analytics experience to design, develop and innovate big data solutions for a diverse set of global and enterprise clients.  \",\n",
       " '',\n",
       " \"At phData, our proven success has skyrocketed the demand for our services, resulting in quality growth at our company headquarters conveniently located in Downtown Minneapolis and expanding throughout the US. Notably we've also been voted Best Company to Work For in Minneapolis for three (3) consecutive years.   \",\n",
       " '',\n",
       " 'As the world’s largest pure-play Big Data services firm, our team includes Apache committers, Spark experts and the most knowledgeable Scala development team in the industry. phData has earned the trust of customers by demonstrating our mastery of Hadoop services and our commitment to excellence.',\n",
       " '',\n",
       " 'In addition to a phenomenal growth and learning opportunity, we offer competitive compensation and excellent perks including base salary, annual bonus, extensive training, paid Cloudera certifications - in addition to generous PTO and a long term incentive plan for employees. ']"
      ]
     },
     "execution_count": 66,
     "metadata": {},
     "output_type": "execute_result"
    }
   ],
   "source": [
    "local_text_rdd.collect()"
   ]
  },
  {
   "cell_type": "code",
   "execution_count": 65,
   "metadata": {},
   "outputs": [
    {
     "data": {
      "text/plain": [
       "[12, 318, 0, 314, 0, 297, 0, 277]"
      ]
     },
     "execution_count": 65,
     "metadata": {},
     "output_type": "execute_result"
    }
   ],
   "source": [
    "lineLengths = local_text_rdd.map(lambda s: len(s))\n",
    "\n",
    "lineLengths.collect()"
   ]
  },
  {
   "cell_type": "code",
   "execution_count": 69,
   "metadata": {},
   "outputs": [
    {
     "data": {
      "text/plain": [
       "1218"
      ]
     },
     "execution_count": 69,
     "metadata": {},
     "output_type": "execute_result"
    }
   ],
   "source": [
    "totalLength = lineLengths.reduce(lambda a, b: a + b)\n",
    "totalLength"
   ]
  },
  {
   "cell_type": "code",
   "execution_count": 70,
   "metadata": {},
   "outputs": [
    {
     "data": {
      "text/plain": [
       "[12, 318, 0, 314, 0, 297, 0, 277]"
      ]
     },
     "execution_count": 70,
     "metadata": {},
     "output_type": "execute_result"
    }
   ],
   "source": [
    "# if you want to use lineLengths again  in pipeline then persist\n",
    "lineLengths.persist() "
   ]
  },
  {
   "cell_type": "markdown",
   "metadata": {},
   "source": [
    "### Pyspark Transformation \n",
    "\n",
    "- lazy intitilization processing starts with action  and not with transformtion \n",
    "\n",
    "#### map(func)\n",
    "   - Return a new distributed dataset formed by passing each element of the source through a function func. \n",
    "\n",
    "\n",
    "#### filter(func)\n",
    " - Return a new dataset formed by selecting those elements of the source on which func returns true. \n",
    "\n",
    "#### flatMap(func) \n",
    " - Similar to map, but each input item can be mapped to 0 or more output items (so func should return a Seq rather than a single item). \n",
    " \n",
    "#### mapPartitions(func)\n",
    " - Similar to map, but runs separately on each partition (block) of the RDD, so func must be of type (Iterator) \n",
    " \n",
    "#### mapPartitionsWithIndex(func)\n",
    " - Similar to mapPartitions, but also provides func with an integer value representing the index of the partition, so func must be of type (Int, Iterator)\n",
    "    \n",
    "#### sample(withReplacement, fraction, seed)\n",
    "   - Sample a fraction fraction of the data, with or without replacement, using a given random number generator seed. \n",
    "    \n",
    "#### union(otherDataset) \n",
    "   - Return a new dataset that contains the union of the elements in the source dataset and the argument. \n",
    "    \n",
    "#### intersection(otherDataset) \n",
    "   - Return a new RDD that contains the intersection of elements in the source dataset and the argument. \n",
    "    \n",
    "#### distinct([numTasks])) \n",
    "   - Return a new dataset that contains the distinct elements of the source dataset.\n",
    "    \n",
    "#### groupByKey([numTasks]) \n",
    "   - When called on a dataset of (K, V) pairs, returns a dataset of (K, Iterable ) pairs.\n",
    "   - Note: If you are grouping in order to perform an aggregation (such as a sum or average) over each key, using reduceByKey or aggregateByKey will yield much better performance.\n",
    " - Note: By default, the level of parallelism in the output depends on the number of partitions of the parent RDD. You can pass an optional numPartitions argument to set a different number of tasks. \n",
    "\n",
    "\n",
    "#### reduceByKey(func, [numTasks]) \n",
    "   - When called on a dataset of (K, V) pairs, returns a dataset of (K, V) pairs where the values for each key are aggregated using the given reduce function func, which must be of type (V,V) => V. Like in groupByKey, the number of reduce tasks is configurable through an optional second argument. \n",
    "    \n",
    "#### aggregateByKey(zeroValue)(seqOp, combOp, [numTasks]) \n",
    "   - When called on a dataset of (K, V) pairs, returns a dataset of (K, U) pairs where the values for each key are aggregated using the given combine functions and a neutral \"zero\" value. Allows an aggregated value type that is different than the input value type, while avoiding unnecessary allocations. Like in groupByKey, the number of reduce tasks is configurable through an optional second argument. \n",
    "    \n",
    "#### sortByKey([ascending], [numTasks]) \n",
    "   - When called on a dataset of (K, V) pairs where K implements Ordered, returns a dataset of (K, V) pairs sorted by keys in ascending or descending order, as specified in the boolean ascending argument.\n",
    "    \n",
    "#### join(otherDataset, [numTasks]) \n",
    "   - When called on datasets of type (K, V) and (K, W), returns a dataset of (K, (V, W)) pairs with all pairs of elements for each key. Outer joins are supported through leftOuterJoin, rightOuterJoin, and fullOuterJoin. \n",
    "    \n",
    "#### cogroup(otherDataset, [numTasks]) \n",
    "   - When called on datasets of type (K, V) and (K, W), returns a dataset of (K, (Iterable v, Iterable W)) tuples. This operation is also called groupWith. \n",
    "    \n",
    "#### cartesian(otherDataset) \n",
    " - When called on datasets of types T and U, returns a dataset of (T, U) pairs (all pairs of elements). \n",
    " \n",
    "#### pipe(command, [envVars]) \n",
    " - Pipe each partition of the RDD through a shell command, e.g. a Perl or bash script. RDD elements are written to the process's stdin and lines output to its stdout are returned as an RDD of strings. \n",
    " \n",
    "#### coalesce(numPartitions)\n",
    "   - Decrease the number of partitions in the RDD to numPartitions. Useful for running operations more efficiently after filtering down a large dataset. \n",
    "    \n",
    "#### repartition(numPartitions) \n",
    " - Reshuffle the data in the RDD randomly to create either more or fewer partitions and balance it across them. This always shuffles all data over the network. \n",
    " \n",
    "#### repartitionAndSortWithinPartitions(partitioner)\n",
    " - Repartition the RDD according to the given partitioner and, within each resulting partition, sort records by their keys. This is more efficient than calling repartition and then sorting within each partition because it can push the sorting down into the shuffle machinery. \n",
    "\n"
   ]
  },
  {
   "cell_type": "markdown",
   "metadata": {},
   "source": [
    "## Pyspark actions"
   ]
  },
  {
   "cell_type": "markdown",
   "metadata": {},
   "source": [
    "#### reduce(func)\n",
    " - Aggregate the elements of the dataset using a function func (which takes two arguments and returns one). The function should be commutative and associative so that it can be computed correctly in parallel. \n",
    " \n",
    "#### collect() \n",
    " - Return all the elements of the dataset as an array at the driver program. This is usually useful after a filter or other operation that returns a sufficiently small subset of the data. \n",
    " \n",
    "#### count()\n",
    " - Return the number of elements in the dataset. \n",
    " \n",
    "#### first()\n",
    " - Return the first element of the dataset (similar to take(1)). \n",
    " \n",
    "#### take(n)\n",
    " - Return an array with the first n elements of the dataset. \n",
    " \n",
    "#### takeSample (withReplacement,num, [seed]) \n",
    " - Return an array with a random sample of num elements of the dataset, with or without replacement, optionally pre-specifying a random number generator seed.\n",
    " \n",
    "#### takeOrdered(n, [ordering]) \n",
    " - Return the first n elements of the RDD using either their natural order or a custom comparator. \n",
    " \n",
    "#### saveAsTextFile(path)\n",
    " -  Write the elements of the dataset as a text file (or set of text files) in a given directory in the local filesystem, HDFS or any other Hadoop-supported file system. Spark will call toString on each element to convert it to a line of text in the file. \n",
    " \n",
    "#### countByKey() \n",
    " - Only available on RDDs of type (K, V). Returns a hashmap of (K, Int) pairs with the count of each key. \n",
    " \n",
    "#### foreach(func) \n",
    " - Run a function func on each element of the dataset. This is usually done for side effects such as updating an Accumulator or interacting with external storage systems. \n",
    " "
   ]
  },
  {
   "cell_type": "code",
   "execution_count": 88,
   "metadata": {},
   "outputs": [],
   "source": [
    "# rdd from extenal dataset \n",
    "from pyspark.sql import SparkSession\n",
    "\n",
    "spark = SparkSession.builder.getOrCreate()\n",
    "\n",
    "local_text_rdd = spark.read.text(\"file:///Users/kaustuv/test.txt\")\n",
    "\n"
   ]
  },
  {
   "cell_type": "code",
   "execution_count": 89,
   "metadata": {},
   "outputs": [
    {
     "data": {
      "text/plain": [
       "8"
      ]
     },
     "execution_count": 89,
     "metadata": {},
     "output_type": "execute_result"
    }
   ],
   "source": [
    "## Number of rows in this DataFrame\n",
    "local_text_rdd.count()\n",
    "\n"
   ]
  },
  {
   "cell_type": "code",
   "execution_count": 90,
   "metadata": {},
   "outputs": [
    {
     "data": {
      "text/plain": [
       "Row(value='just to test')"
      ]
     },
     "execution_count": 90,
     "metadata": {},
     "output_type": "execute_result"
    }
   ],
   "source": [
    "# First row in this DataFrame\n",
    "local_text_rdd.first()\n",
    "\n"
   ]
  },
  {
   "cell_type": "code",
   "execution_count": 91,
   "metadata": {},
   "outputs": [],
   "source": [
    "# let’s transform this DataFrame to a new one\n",
    "linesWithSpark = local_text_rdd.filter(local_text_rdd.value.contains(\"this\"))"
   ]
  },
  {
   "cell_type": "code",
   "execution_count": 93,
   "metadata": {
    "scrolled": true
   },
   "outputs": [
    {
     "data": {
      "text/plain": [
       "[Row(value=\"If you're inspired by innovation, hard work and a passion for data, this may be the ideal opportunity to leverage your background in Big Data and Software Engineering, Data Engineering or Data Analytics experience to design, develop and innovate big data solutions for a diverse set of global and enterprise clients.  \")]"
      ]
     },
     "execution_count": 93,
     "metadata": {},
     "output_type": "execute_result"
    }
   ],
   "source": [
    "linesWithSpark.collect()"
   ]
  },
  {
   "cell_type": "code",
   "execution_count": 96,
   "metadata": {},
   "outputs": [
    {
     "data": {
      "text/plain": [
       "1"
      ]
     },
     "execution_count": 96,
     "metadata": {},
     "output_type": "execute_result"
    }
   ],
   "source": [
    "# chaining together transformations and actions:\n",
    "linesWithSpark.filter(linesWithSpark.value.contains(\"this\")).count()"
   ]
  },
  {
   "cell_type": "code",
   "execution_count": 97,
   "metadata": {},
   "outputs": [
    {
     "data": {
      "text/plain": [
       "[Row(max(numWords)=52)]"
      ]
     },
     "execution_count": 97,
     "metadata": {},
     "output_type": "execute_result"
    }
   ],
   "source": [
    "# more complex : find the line with the most words\n",
    "\n",
    "from pyspark.sql.functions import *\n",
    "linesWithSpark.select(size(split(linesWithSpark.value, \"\\s+\")).name(\"numWords\")).agg(max(col(\"numWords\"))).collect()"
   ]
  },
  {
   "cell_type": "code",
   "execution_count": 98,
   "metadata": {},
   "outputs": [],
   "source": [
    "#  Spark can implement MapReduce flows as below \n",
    "\n",
    "wordCounts = local_text_rdd.select(explode(split(local_text_rdd.value, \"\\s+\")).alias(\"word\")).groupBy(\"word\").count()"
   ]
  },
  {
   "cell_type": "code",
   "execution_count": 99,
   "metadata": {
    "scrolled": true
   },
   "outputs": [
    {
     "data": {
      "text/plain": [
       "[Row(word='growth', count=2),\n",
       " Row(word='If', count=1),\n",
       " Row(word='throughout', count=1),\n",
       " Row(word='experts', count=1),\n",
       " Row(word='Data', count=4),\n",
       " Row(word='proven', count=1),\n",
       " Row(word='set', count=1),\n",
       " Row(word='demand', count=1),\n",
       " Row(word='committers,', count=1),\n",
       " Row(word='certifications', count=1),\n",
       " Row(word='data,', count=1),\n",
       " Row(word='Engineering', count=1),\n",
       " Row(word='by', count=2),\n",
       " Row(word='innovate', count=1),\n",
       " Row(word='success', count=1),\n",
       " Row(word='headquarters', count=1),\n",
       " Row(word='pure-play', count=1),\n",
       " Row(word='In', count=1),\n",
       " Row(word='opportunity', count=1),\n",
       " Row(word='PTO', count=1),\n",
       " Row(word='for', count=5),\n",
       " Row(word='ideal', count=1),\n",
       " Row(word='develop', count=1),\n",
       " Row(word='diverse', count=1),\n",
       " Row(word='skyrocketed', count=1),\n",
       " Row(word='in', count=6),\n",
       " Row(word='Work', count=1),\n",
       " Row(word=\"we've\", count=1),\n",
       " Row(word='Company', count=1),\n",
       " Row(word='includes', count=1),\n",
       " Row(word='design,', count=1),\n",
       " Row(word='addition', count=2),\n",
       " Row(word='training,', count=1),\n",
       " Row(word='services,', count=1),\n",
       " Row(word='be', count=1),\n",
       " Row(word='years.', count=1),\n",
       " Row(word='As', count=1),\n",
       " Row(word='Cloudera', count=1),\n",
       " Row(word='solutions', count=1),\n",
       " Row(word='passion', count=1),\n",
       " Row(word='your', count=1),\n",
       " Row(word='may', count=1),\n",
       " Row(word='located', count=1),\n",
       " Row(word='team', count=2),\n",
       " Row(word='salary,', count=1),\n",
       " Row(word='learning', count=1),\n",
       " Row(word='voted', count=1),\n",
       " Row(word='excellence.', count=1),\n",
       " Row(word='Apache', count=1),\n",
       " Row(word='(3)', count=1),\n",
       " Row(word='global', count=1),\n",
       " Row(word='opportunity,', count=1),\n",
       " Row(word='trust', count=1),\n",
       " Row(word='Engineering,', count=1),\n",
       " Row(word='competitive', count=1),\n",
       " Row(word='resulting', count=1),\n",
       " Row(word='data', count=1),\n",
       " Row(word='offer', count=1),\n",
       " Row(word='innovation,', count=1),\n",
       " Row(word='-', count=1),\n",
       " Row(word='Analytics', count=1),\n",
       " Row(word='our', count=6),\n",
       " Row(word='long', count=1),\n",
       " Row(word='firm,', count=1),\n",
       " Row(word='mastery', count=1),\n",
       " Row(word='customers', count=1),\n",
       " Row(word='just', count=1),\n",
       " Row(word='the', count=7),\n",
       " Row(word='annual', count=1),\n",
       " Row(word='At', count=1),\n",
       " Row(word='phenomenal', count=1),\n",
       " Row(word='demonstrating', count=1),\n",
       " Row(word='US.', count=1),\n",
       " Row(word='employees.', count=1),\n",
       " Row(word='expanding', count=1),\n",
       " Row(word='excellent', count=1),\n",
       " Row(word='plan', count=1),\n",
       " Row(word='hard', count=1),\n",
       " Row(word='earned', count=1),\n",
       " Row(word='work', count=1),\n",
       " Row(word='Notably', count=1),\n",
       " Row(word='paid', count=1),\n",
       " Row(word='incentive', count=1),\n",
       " Row(word=\"you're\", count=1),\n",
       " Row(word='and', count=10),\n",
       " Row(word='Scala', count=1),\n",
       " Row(word='been', count=1),\n",
       " Row(word='Software', count=1),\n",
       " Row(word='Downtown', count=1),\n",
       " Row(word='three', count=1),\n",
       " Row(word='commitment', count=1),\n",
       " Row(word='leverage', count=1),\n",
       " Row(word='Best', count=1),\n",
       " Row(word='of', count=3),\n",
       " Row(word='experience', count=1),\n",
       " Row(word='perks', count=1),\n",
       " Row(word='bonus,', count=1),\n",
       " Row(word='generous', count=1),\n",
       " Row(word='Big', count=2),\n",
       " Row(word='conveniently', count=1),\n",
       " Row(word='phData', count=1),\n",
       " Row(word='including', count=1),\n",
       " Row(word='world’s', count=1),\n",
       " Row(word='at', count=1),\n",
       " Row(word='Minneapolis', count=2),\n",
       " Row(word='services', count=2),\n",
       " Row(word='development', count=1),\n",
       " Row(word='compensation', count=1),\n",
       " Row(word='For', count=1),\n",
       " Row(word='phData,', count=1),\n",
       " Row(word='largest', count=1),\n",
       " Row(word='clients.', count=1),\n",
       " Row(word='Spark', count=1),\n",
       " Row(word='enterprise', count=1),\n",
       " Row(word='company', count=1),\n",
       " Row(word='industry.', count=1),\n",
       " Row(word='a', count=4),\n",
       " Row(word='consecutive', count=1),\n",
       " Row(word='most', count=1),\n",
       " Row(word='', count=6),\n",
       " Row(word='this', count=1),\n",
       " Row(word='base', count=1),\n",
       " Row(word='knowledgeable', count=1),\n",
       " Row(word='has', count=2),\n",
       " Row(word='test', count=1),\n",
       " Row(word='inspired', count=1),\n",
       " Row(word='or', count=1),\n",
       " Row(word='to', count=7),\n",
       " Row(word='extensive', count=1),\n",
       " Row(word='term', count=1),\n",
       " Row(word='Hadoop', count=1),\n",
       " Row(word='also', count=1),\n",
       " Row(word='quality', count=1),\n",
       " Row(word='we', count=1),\n",
       " Row(word='background', count=1),\n",
       " Row(word='big', count=1)]"
      ]
     },
     "execution_count": 99,
     "metadata": {},
     "output_type": "execute_result"
    }
   ],
   "source": [
    "wordCounts.collect()"
   ]
  },
  {
   "cell_type": "markdown",
   "metadata": {},
   "source": [
    "### Passing Functions to Spark"
   ]
  },
  {
   "cell_type": "code",
   "execution_count": null,
   "metadata": {},
   "outputs": [],
   "source": [
    "# For example, to pass a longer function than can be supported using a lambda, consider the code below:\n",
    "if __name__ == \"__main__\":\n",
    "    def myFunc(s):\n",
    "        words = s.split(\" \")\n",
    "        return len(words)\n",
    "\n",
    "\n",
    "sc.textFile(\"file.txt\").map(myFunc)\n",
    "\n",
    "# passing a reference to a method in a class instance\n",
    "\n",
    "class MyClass(object):\n",
    "    def func(self, s):\n",
    "        return s\n",
    "    def doStuff(self, rdd):\n",
    "        return rdd.map(self.func)\n",
    "\n",
    "\n",
    "# for accessing fields of the outer object\n",
    "\n",
    "class MyClass(object):\n",
    "    def __init__(self):\n",
    "        self.field = \"Hello\"\n",
    "    def doStuff(self, rdd):\n",
    "        return rdd.map(lambda s: self.field + s)\n",
    "    \n",
    "# alternativly \n",
    "def doStuff(self, rdd):\n",
    "    field = self.field\n",
    "    return rdd.map(lambda s: field + s)\n",
    "    \n"
   ]
  },
  {
   "cell_type": "markdown",
   "metadata": {},
   "source": [
    "### Closure \n",
    "- Spark breaks up the processing of RDD operations into tasks, each of which is executed by an executor\n",
    "- Prior to execution, Spark computes the task’s closure. The closure is those variables and methods which must be visible for the executor to perform its computations on the RDD\n",
    "- Closure is serialized and sent to each executor.\n",
    "- Hence for reference global variable socpe special variable  i.e. accumulater is used"
   ]
  },
  {
   "cell_type": "markdown",
   "metadata": {},
   "source": [
    "### Shuffle \n",
    "\n",
    "- The shuffle is Spark’s mechanism for re-distributing data so that it’s grouped differently across partitions.\n",
    "- This typically involves copying data across executors and machines, making the shuffle a complex and costly operation.\n",
    "\n",
    "- For example for the reduceByKey operation.not all values for a single key necessarily reside on the same partition, or even the same machine, but they must be co-located to compute the result. to organize all the data for a single reduceByKey reduce task to execute, Spark needs to perform an all-to-all operation. It must read from all partitions to find all the values for all keys, and then bring together values across partitions to compute the final result for each key - this is called the shuffle.\n",
    "\n",
    "- due to this  long-running Spark jobs may consume a large amount of disk space\n",
    "\n"
   ]
  },
  {
   "cell_type": "code",
   "execution_count": null,
   "metadata": {},
   "outputs": [],
   "source": [
    "from pyspark.sql import SparkSession\n",
    "spark = SparkSession.builder.getOrCreate()"
   ]
  },
  {
   "cell_type": "markdown",
   "metadata": {},
   "source": [
    "### Spark Execution mode \n",
    "\n",
    "#### Local vs. cluster modes\n",
    "\n",
    "\n"
   ]
  },
  {
   "cell_type": "markdown",
   "metadata": {},
   "source": [
    "### Word Count in Pyspark"
   ]
  },
  {
   "cell_type": "code",
   "execution_count": 51,
   "metadata": {},
   "outputs": [],
   "source": [
    "# word count \n",
    "text_data = sc.textFile(\"file:///Users/kaustuv/test.txt\")\n",
    "counts = text_data.flatMap(lambda line:line.split(\" \")).map( lambda word : (word, 1)).reduceByKey(lambda a,b:a+b);\n",
    "counts.saveAsTextFile('file:///Users/kaustuv/Documents/Courses/Spark/pyspark/out.txt')"
   ]
  },
  {
   "cell_type": "markdown",
   "metadata": {},
   "source": [
    "### Caching : RDD Persistence\n",
    "\n",
    "- persisting (or caching) a dataset in memory across operations\n",
    "- Caching is a key tool for iterative algorithms and fast interactive use\n",
    "- can mark an RDD to be persisted using the persist() or cache() methods on it\n",
    "- Spark’s cache is fault-tolerant – if any partition of an RDD is lost, it will automatically be recomputed using the transformations that originally created it.\n",
    "- persisted RDD can be stored using a different storage level,on disk,in memory but as serialized Java objects\n",
    "- cache() method is a shorthand for using the default storage level, which is StorageLevel.MEMORY_ONLY (store deserialized objects in memory)\n",
    "\n",
    "- In Python, stored objects will always be serialized with the Pickle library, so it does not matter whether you choose a serialized level.\n",
    "\n",
    "### Storage levels :\n",
    "\n",
    "\n",
    "MEMORY_ONLY :  If the RDD does not fit in memory, some partitions will not be cached and will be recomputed on the fly each time they're needed\n",
    "\n",
    "MEMORY_ONLY_2 : same as MEMORY_ONLY replicate each partition on two cluster nodes \n",
    "\n",
    "MEMORY_AND_DISK : if the RDD does not fit in memory, store the partitions that don't fit on disk\n",
    "\n",
    "MEMORY_AND_DISK_2 :same as MEMORY_AND_DISK but replicate each partition on two cluster nodes\n",
    "\n",
    "DISK_ONLY : Store the RDD partitions only on disk. \n",
    "\n",
    "DISK_ONLY_2 : same as DISK only with  2 replication \n",
    "\n",
    "DISK_ONLY_3 : same as DISK only with  3 replication \n",
    "\n",
    "\n",
    "MEMORY_ONLY_SER\n",
    "(Java and Scala) : Store RDD as serialized Java objects\n",
    "\n",
    "\n",
    "\n",
    "\n",
    "####  Chossing Storage levels :\n",
    "\n",
    "- If your RDDs fit comfortably with the default storage level (MEMORY_ONLY), leave them that way. This is the most CPU-efficient option.\n",
    "\n",
    "- If not, try using MEMORY_ONLY_SER and selecting a fast serialization library to make the objects much more space-efficient.\n",
    "\n",
    "- Use the replicated storage levels if you want fast fault recovery ,replicated ones let you continue running tasks on the RDD without waiting to recompute a lost partition however all the storage levels provide full fault tolerance by recomputing lost data\n",
    "\n",
    "\n",
    "#### Data Cleanup in Spark \n",
    "\n",
    "- Spark automatically monitors cache usage on each node and drops out old data partitions in a least-recently-used (LRU) fashion.\n",
    " \n",
    " - use the RDD.unpersist() method. to manually remove an RDD instead of waiting for it to fall out of the cach,To block until resources are freed, specify blocking=true when calling this method."
   ]
  },
  {
   "cell_type": "code",
   "execution_count": 100,
   "metadata": {},
   "outputs": [
    {
     "data": {
      "text/plain": [
       "DataFrame[value: string]"
      ]
     },
     "execution_count": 100,
     "metadata": {},
     "output_type": "execute_result"
    }
   ],
   "source": [
    "linesWithSpark.cache()"
   ]
  },
  {
   "cell_type": "code",
   "execution_count": 101,
   "metadata": {},
   "outputs": [
    {
     "data": {
      "text/plain": [
       "1"
      ]
     },
     "execution_count": 101,
     "metadata": {},
     "output_type": "execute_result"
    }
   ],
   "source": [
    "linesWithSpark.count()"
   ]
  },
  {
   "cell_type": "code",
   "execution_count": 79,
   "metadata": {},
   "outputs": [
    {
     "data": {
      "text/plain": [
       "PythonRDD[261] at RDD at PythonRDD.scala:53"
      ]
     },
     "execution_count": 79,
     "metadata": {},
     "output_type": "execute_result"
    }
   ],
   "source": [
    "counts.persist()"
   ]
  },
  {
   "cell_type": "code",
   "execution_count": 80,
   "metadata": {},
   "outputs": [
    {
     "data": {
      "text/plain": [
       "PythonRDD[261] at RDD at PythonRDD.scala:53"
      ]
     },
     "execution_count": 80,
     "metadata": {},
     "output_type": "execute_result"
    }
   ],
   "source": [
    "counts.unpersist()"
   ]
  },
  {
   "cell_type": "markdown",
   "metadata": {},
   "source": [
    "\n",
    " \n",
    " \n",
    "### Shared variable \n",
    "\n",
    "- Broadcast veriable  (readonly)\n",
    "\n",
    "- Accumulator (writeonly , sililar to mpreduce counter)\n"
   ]
  },
  {
   "cell_type": "code",
   "execution_count": null,
   "metadata": {},
   "outputs": [],
   "source": [
    "# for reference on casting \n",
    "# Convert String to Integer Type\n",
    "df.withColumn(\"age\",df.age.cast(IntegerType()))\n",
    "df.withColumn(\"age\",df.age.cast('int'))\n",
    "df.withColumn(\"age\",df.age.cast('integer'))\n",
    "\n",
    "# Using select\n",
    "df.select(col(\"age\").cast('int').alias(\"age\"))\n",
    "\n",
    "#Using selectExpr()\n",
    "df.selectExpr(\"cast(age as int) age\")\n",
    "\n",
    "#Using with spark.sql()\n",
    "spark.sql(\"SELECT INT(age),BOOLEAN(isGraduated),DATE(jobStartDate) from CastExample\""
   ]
  },
  {
   "cell_type": "markdown",
   "metadata": {},
   "source": [
    "### Broadcast Variables\n",
    "\n",
    "- allow the programmer to keep a read-only variable cached on each machine\n",
    "- used, for example, to give every node a copy of a large input dataset in an efficient manner\n",
    "- Spark automatically broadcasts the common data needed by tasks within each stage\n",
    "- explicitly creating broadcast variables is only useful when tasks across multiple stages need the same data or when caching the data in deserialized form is important\n",
    "- The broadcast variable is a wrapper around v, and its value can be accessed by calling the value method\n",
    "\n",
    "- To release the resources that the broadcast variable copied onto executors, call .unpersist()\n",
    "- To permanently release all resources used by the broadcast variable, call .destroy()\n"
   ]
  },
  {
   "cell_type": "code",
   "execution_count": 71,
   "metadata": {},
   "outputs": [
    {
     "data": {
      "text/plain": [
       "[1, 2, 3]"
      ]
     },
     "execution_count": 71,
     "metadata": {},
     "output_type": "execute_result"
    }
   ],
   "source": [
    "broadcastVar = sc.broadcast([1, 2, 3])\n",
    "broadcastVar.value"
   ]
  },
  {
   "cell_type": "markdown",
   "metadata": {},
   "source": [
    "### Accumulators\n",
    "\n",
    "- are variables that are only “added” to through an associative and commutative operation and can therefore be efficiently supported in paralle.\n",
    "- Can be used to implement counters\n",
    "- Spark natively supports accumulators of numeric types, and programmers can add support for new types.\n",
    "- Spark displays the value for each accumulator modified by a task in the “Tasks” table.\n",
    "\n",
    "- programmers can also create their own types by of accumulator subclassing AccumulatorParam\n",
    "- AccumulatorParam interface has two methods: zero for providing a “zero value” for your data type, and addInPlace for adding two values together.\n",
    "- Accumulators do not change the lazy evaluation model of Spark. If they are being updated within an operation on an RDD, their value is only updated once that RDD is computed as part of an action.\n",
    "\n"
   ]
  },
  {
   "cell_type": "code",
   "execution_count": 72,
   "metadata": {},
   "outputs": [
    {
     "data": {
      "text/plain": [
       "Accumulator<id=0, value=0>"
      ]
     },
     "execution_count": 72,
     "metadata": {},
     "output_type": "execute_result"
    }
   ],
   "source": [
    "accum = sc.accumulator(0)\n",
    "accum"
   ]
  },
  {
   "cell_type": "code",
   "execution_count": 74,
   "metadata": {},
   "outputs": [
    {
     "data": {
      "text/plain": [
       "10"
      ]
     },
     "execution_count": 74,
     "metadata": {},
     "output_type": "execute_result"
    }
   ],
   "source": [
    "sc.parallelize([1, 2, 3, 4]).foreach(lambda x: accum.add(x))\n",
    "accum.value"
   ]
  },
  {
   "cell_type": "markdown",
   "metadata": {},
   "source": [
    "## Building application \n",
    "\n",
    "-  you are building a packaged PySpark application or library you can add it to your setup.py file as:\n",
    "\n",
    "```\n",
    "    install_requires=\n",
    "    [\n",
    "        'pyspark==3.1.1'\n",
    "                 ]\n",
    "```\n",
    "   \n",
    "- example of  simple Spark application, SimpleApp.py:\n",
    "\n",
    "```\n",
    "\"\"\"SimpleApp.py\"\"\"\n",
    "from pyspark.sql import SparkSession\n",
    "\n",
    "logFile = \"YOUR_SPARK_HOME/README.md\"  # Should be some file on your system\n",
    "spark = SparkSession.builder.appName(\"SimpleApp\").getOrCreate()\n",
    "logData = spark.read.text(logFile).cache()\n",
    "\n",
    "numAs = logData.filter(logData.value.contains('a')).count()\n",
    "numBs = logData.filter(logData.value.contains('b')).count()\n",
    "\n",
    "print(\"Lines with a: %i, lines with b: %i\" % (numAs, numBs))\n",
    "\n",
    "spark.stop()\n",
    "\n",
    "```\n",
    "\n",
    "- And run this application using the bin/spark-submit script:\n",
    "\n",
    "```\n",
    "spark-submit \\\n",
    "  --master local[4] \\\n",
    "  SimpleApp.py\n",
    "  \n",
    "```"
   ]
  },
  {
   "cell_type": "markdown",
   "metadata": {},
   "source": [
    "## Submitting  Spark Applications\n",
    "\n",
    "- Job are submitted using spark-submit script in Spark’s bin directory\n",
    "\n",
    "### Bundling Your Application’s Dependencies,\n",
    "- Package dependencies  alongside your application in order to distribute the code to a Spark cluster\n",
    "- Spark and Hadoop as provided dependencies should not be bundled in package  since they are provided by the cluster manager at runtime\n",
    "- pass  your jar while calling   the bin/spark-submit script \n",
    "\n",
    "### Launching Applications with spark-submit\n",
    "\n",
    "- Application can be launched using the bin/spark-submit script\n",
    "- Some of the commonly used options are:\n",
    "    - --class: The entry point for your application (e.g. org.apache.spark.examples.SparkPi)\n",
    "    \n",
    "    - --master: The master URL for the cluster (e.g. spark://23.195.26.187:7077) (* see next section)\n",
    "    \n",
    "    - --deploy-mode: Whether to deploy your driver on the worker nodes (cluster) or locally as an external client (client) (default: client). In client mode, the driver is launched directly within the spark-submit process which acts as a client to the cluster.Currently, the standalone mode does not support cluster mode for Python applications. \n",
    "    - --conf: Arbitrary Spark configuration property in key=value format\n",
    "    - application-jar: Path to a bundled jar including your application and all dependencies\n",
    "    - application-arguments: Arguments passed to the main method of your main class, if any\n",
    "    \n",
    "    \n",
    "- To enumerate all such options available to spark-submit, run it with --help\n",
    "\n",
    "- Spark uses the following URL scheme to allow different strategies for disseminating jars,file:/,hdfs:, http:, https:, ftp,local, \n",
    "\n",
    "### Master URLs\n",
    "master URL passed to Spark can be in one of the following formats:\n",
    "\n",
    "- local : Run Spark locally with one worker thread (i.e. no parallelism at all). \n",
    "- local[K] : Run Spark locally with K worker threads\n",
    "- local[K,F] :Run Spark locally with K worker threads and F maxFailures\n",
    "- local[*] : Run Spark locally with as many worker threads as logical cores on your machine.\n",
    "- local[*,F] : Run Spark locally with as many worker threads as logical cores on your machine and F maxFailures.\n",
    "- spark://HOST:PORT : Connect to the given Spark standalone cluster master. The port must be whichever one your master is configured to use, which is 7077 by default. \n",
    "- spark://HOST1:PORT1,HOST2:PORT2 : Connect to the given Spark standalone cluster with standby masters with Zookeeper.\n",
    "- mesos://HOST:PORT : Connect to the given Mesos cluster\n",
    "- yarn :Connect to a YARN cluster in client or cluster mode depending on the value of --deploy-mode\n",
    "- k8s://HOST:PORT : Connect to a Kubernetes cluster in cluster mode"
   ]
  },
  {
   "cell_type": "code",
   "execution_count": null,
   "metadata": {},
   "outputs": [],
   "source": [
    "./bin/spark-submit \\\n",
    "  --class <main-class> \\\n",
    "  --master <master-url> \\\n",
    "  --deploy-mode <deploy-mode> \\\n",
    "  --conf <key>=<value> \\\n",
    "  ... # other options\n",
    "  <application-jar> \\\n",
    "  [application-arguments]\n",
    "    \n",
    "# Run application locally on 8 cores\n",
    "./bin/spark-submit \\\n",
    "  --class org.apache.spark.examples.SparkPi \\\n",
    "  --master local[8] \\\n",
    "  /path/to/examples.jar \\\n",
    "  100\n",
    "\n",
    "# Run on a Spark standalone cluster in client deploy mode\n",
    "./bin/spark-submit \\\n",
    "  --class org.apache.spark.examples.SparkPi \\\n",
    "  --master spark://207.184.161.138:7077 \\\n",
    "  --executor-memory 20G \\\n",
    "  --total-executor-cores 100 \\\n",
    "  /path/to/examples.jar \\\n",
    "  1000\n",
    "\n",
    "# Run on a Spark standalone cluster in cluster deploy mode with supervise\n",
    "./bin/spark-submit \\\n",
    "  --class org.apache.spark.examples.SparkPi \\\n",
    "  --master spark://207.184.161.138:7077 \\\n",
    "  --deploy-mode cluster \\\n",
    "  --supervise \\\n",
    "  --executor-memory 20G \\\n",
    "  --total-executor-cores 100 \\\n",
    "  /path/to/examples.jar \\\n",
    "  1000\n",
    "\n",
    "# Run on a YARN cluster\n",
    "export HADOOP_CONF_DIR=XXX\n",
    "./bin/spark-submit \\\n",
    "  --class org.apache.spark.examples.SparkPi \\\n",
    "  --master yarn \\\n",
    "  --deploy-mode cluster \\  # can be client for client mode\n",
    "  --executor-memory 20G \\\n",
    "  --num-executors 50 \\\n",
    "  /path/to/examples.jar \\\n",
    "  1000\n",
    "\n",
    "# Run a Python application on a Spark standalone cluster\n",
    "./bin/spark-submit \\\n",
    "  --master spark://207.184.161.138:7077 \\\n",
    "  examples/src/main/python/pi.py \\\n",
    "  1000\n",
    "\n",
    "# Run on a Mesos cluster in cluster deploy mode with supervise\n",
    "./bin/spark-submit \\\n",
    "  --class org.apache.spark.examples.SparkPi \\\n",
    "  --master mesos://207.184.161.138:7077 \\\n",
    "  --deploy-mode cluster \\\n",
    "  --supervise \\\n",
    "  --executor-memory 20G \\\n",
    "  --total-executor-cores 100 \\\n",
    "  http://path/to/examples.jar \\\n",
    "  1000\n",
    "\n",
    "# Run on a Kubernetes cluster in cluster deploy mode\n",
    "./bin/spark-submit \\\n",
    "  --class org.apache.spark.examples.SparkPi \\\n",
    "  --master k8s://xx.yy.zz.ww:443 \\\n",
    "  --deploy-mode cluster \\\n",
    "  --executor-memory 20G \\\n",
    "  --num-executors 50 \\\n",
    "  http://path/to/examples.jar \\\n",
    "  1000"
   ]
  },
  {
   "cell_type": "markdown",
   "metadata": {},
   "source": [
    "## Monitoring\n",
    "\n",
    "- Each driver program has a web UI\n",
    "- It can be accessed on port 4040 i.e. http://driver-node:4040\n",
    "- If multiple SparkContexts are running on the same host, they will bind to successive ports beginning with 4040  then 4041, 4042, etc.\n",
    " \n",
    "- You Can construct the UI of an application through Spark’s history server 'sbin/start-history-server.sh'\n",
    "\n",
    "- Job metrics, are also available as JSON so developers can  create new visualizations and monitoring tools for Spark\n",
    " \n",
    "- Information about the application includes :\n",
    "    - list of scheduler stages and tasks, \n",
    "    - summary of RDD sizes and memory usage, \n",
    "    - Environmental information, \n",
    "    - running executors information\n"
   ]
  },
  {
   "cell_type": "markdown",
   "metadata": {},
   "source": [
    "## Job Scheduling in spark\n",
    "\n",
    "- Cluster managers, that Spark runs on provide, scheduling facilities.\n",
    "\n",
    "- Within each Spark application, multiple “jobs” (Spark actions) may be running concurrently if they were submitted by different threads.\n",
    "\n",
    "- Spark also includes a fair scheduler to schedule resources within each SparkContext.\n",
    "\n",
    "- Dynamic Resource Allocation is by default false, to enable set these two properties to true.\n",
    "     - spark.dynamicAllocation.enabled  \n",
    "     - spark.dynamicAllocation.shuffleTracking.enabled\n",
    " "
   ]
  },
  {
   "cell_type": "markdown",
   "metadata": {},
   "source": [
    "## Tuning Spark\n",
    "\n",
    "### Data Serialization\n",
    "- Storing RDD is serialized form, it reduces memory usage.\n",
    "- Spark provides two serialization libraries:\n",
    "    - Java serialization:  Spark serializes objects using Java’s ObjectOutputStream framework  by implementing java.io.Serializable and  java.io.Externalizable.\n",
    "\n",
    "    - Kryo serialization: \n",
    "        - Kryo is significantly faster and more compact than Java serialization (often as much as 10x), but does not support all Serializable types and requires you to register the classes you’ll use in the program in advance for best performance.\n",
    "        - to use kryo, initializing your job with a SparkConf and calling conf.set(\"spark.serializer\", \"org.apache.spark.serializer.KryoSerializer\")\n",
    "        \n",
    "    \n",
    "    \n",
    "###  Memory Tuning\n",
    "\n",
    "- considerations in tuning memory usage\n",
    "    - Amount of memory used by your objects\n",
    "    - Cost of accessing those objects\n",
    "    - The overhead of garbage collection\n",
    "- we will describe how to determine the memory usage of your objects, and how to improve it – either by changing your data structures, or by storing data in a serialized format. We will then cover tuning Spark’s cache size and the Java garbage collector.\n",
    "\n",
    "\n",
    "#### Memory Management Overview\n",
    "\n",
    "- In Spark, execution and storage share a unified region (M).\n",
    "\n",
    "####  Determining Memory Consumption\n",
    "\n",
    "- To estimate the memory consumption of a particular object, use SizeEstimator’s estimate method \n",
    "\n",
    "####        Tuning Data Structures\n",
    "\n",
    "- avoid the Java features that add overhead, such as pointer-based data structures and wrapper objects. There are several ways to do this:\n",
    "\n",
    "    -  prefer arrays of objects, and primitive types, instead of the standard Java or Scala collection classes \n",
    "    - avoid nested structures with a lot of small objects and pointers when possible.\n",
    "    - Consider using numeric IDs or enumeration objects instead of strings for keys.\n",
    "    - If you have less than 32 GiB of RAM, set the JVM flag -XX:+UseCompressedOops to make pointers be four bytes instead of eight. You can add these options in spark-env.sh.\n",
    "    \n",
    "\n",
    "####        Serialized RDD Storage\n",
    "\n",
    "- use the serialized StorageLevels in the RDD persistence API, such as MEMORY_ONLY_SER\n",
    "- downside of storing data in serialized form is slower access times, due to having to deserialize each object on the fly\n",
    "\n",
    "- spark highly recommend using Kryo if you want to cache data in serialized form\n",
    "\n",
    "####        Garbage Collection Tuning\n",
    "\n",
    "- The cost of garbage collection is proportional to the number of Java objects, so using data structures with fewer objectsgreatly lowers this cost.\n",
    "\n",
    "- An even better method is to persist objects in serialized form, as described above: now there will be only one object (a byte array) per RDD partition\n",
    "\n",
    "- first step in GC tuning is to<b>Measuring the Impact</b> i.e. of GC collect statistics on how frequently garbage collection occurs and the amount of time spent GC. This can be done by adding -verbose:gc -XX:+PrintGCDetails -XX:+PrintGCTimeStamps to the Java options\n",
    "\n",
    "### Other Considerations\n",
    "\n",
    "- Level of Parallelism : \n",
    "     -  try setting the level of parallelism for each operation high enough\n",
    "     - config property spark.default.parallelism\n",
    "        \n",
    "- Parallel Listing on Input Paths :\n",
    "    - Sometimes you may also need to increase *directory listing parallelism when job input has large number of directories, otherwise the process could take a very long time, especially when against object store like S3\n",
    "        \n",
    "\n",
    "- Broadcasting Large Variables :\n",
    "    - Using the broadcast functionality available in SparkContext can greatly reduce the size of each serialized task, and the cost of launching a job over a cluster\n",
    "        \n",
    "- Data Locality :\n",
    "    - If data and the code that operates on it are together then computation tends to be fast.\n",
    "    - Spark prefers to schedule all tasks at the best locality level,\n",
    "    - Spark typically does is wait a bit in the hopes that a busy CPU frees up. Once that timeout expires, it starts moving the data from far away to the free CPU\n",
    "    - Wait timeout for fallback between each level can be configured individually or all together in one parameter; see the <b>spark.locality</b> parameters on the\n",
    "    \n",
    "\n"
   ]
  },
  {
   "cell_type": "markdown",
   "metadata": {},
   "source": [
    "## Unit Testing in Spark\n",
    "\n",
    "- test outside clusters\n",
    "- test to prevent bugs propagation in clusters\n",
    "- test the logic (not spark)\n",
    "- IDE prwffered over notebook for testing ( & debugging)\n",
    "- Simply create a SparkContext in your test with the master URL set to local, run your operations, and then call SparkContext.stop() to tear it down. Make sure you stop the context within a finally block or the test framework’s tearDown method, as Spark does not support two contexts running concurrently in the same program.\n",
    "\n",
    "-  for pyspark use  unittest.mock library \n"
   ]
  },
  {
   "cell_type": "code",
   "execution_count": null,
   "metadata": {},
   "outputs": [],
   "source": [
    "import unittest\n",
    "import pyspark\n",
    "\n",
    "\n",
    "class PySparkTestCase(unittest.TestCase):\n",
    "\n",
    "    @classmethod\n",
    "    def setUpClass(cls):\n",
    "        conf = pyspark.SparkConf().setMaster(\"local[2]\").setAppName(\"testing\")\n",
    "        cls.sc = pyspark.SparkContext(conf=conf)\n",
    "        cls.spark = pyspark.SQLContext(cls.sc)\n",
    "\n",
    "    @classmethod\n",
    "    def tearDownClass(cls):\n",
    "        cls.sc.stop()\n",
    "        \n",
    "        \n",
    "class SimpleTestCase(PySparkTestCase):\n",
    "\n",
    "    def test_with_rdd(self):\n",
    "        test_input = [\n",
    "            ' hello spark ',\n",
    "            ' hello again spark spark'\n",
    "        ]\n",
    "\n",
    "        input_rdd = self.sc.parallelize(test_input, 1)\n",
    "\n",
    "        from operator import add\n",
    "\n",
    "        results = input_rdd.flatMap(lambda x: x.split()).map(lambda x: (x, 1)).reduceByKey(add).collect()\n",
    "        self.assertEqual(results, [('hello', 2), ('spark', 3), ('again', 1)])\n",
    "\n",
    "    def test_with_df(self):\n",
    "        df = self.spark.createDataFrame(data=[[1, 'a'], [2, 'b']], \n",
    "                                        schema=['c1', 'c2'])\n",
    "        self.assertEqual(df.count(), 2)\n"
   ]
  }
 ],
 "metadata": {
  "kernelspec": {
   "display_name": "Python 3",
   "language": "python",
   "name": "python3"
  },
  "language_info": {
   "codemirror_mode": {
    "name": "ipython",
    "version": 3
   },
   "file_extension": ".py",
   "mimetype": "text/x-python",
   "name": "python",
   "nbconvert_exporter": "python",
   "pygments_lexer": "ipython3",
   "version": "3.7.8"
  }
 },
 "nbformat": 4,
 "nbformat_minor": 2
}
